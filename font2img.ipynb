{
  "nbformat": 4,
  "nbformat_minor": 0,
  "metadata": {
    "colab": {
      "name": "font2img.ipynb",
      "provenance": [],
      "collapsed_sections": [],
      "include_colab_link": true
    },
    "kernelspec": {
      "name": "python3",
      "display_name": "Python 3"
    },
    "language_info": {
      "name": "python"
    }
  },
  "cells": [
    {
      "cell_type": "markdown",
      "metadata": {
        "id": "view-in-github",
        "colab_type": "text"
      },
      "source": [
        "<a href=\"https://colab.research.google.com/github/kalwraith/GAN_handwriting/blob/main/font2img.ipynb\" target=\"_parent\"><img src=\"https://colab.research.google.com/assets/colab-badge.svg\" alt=\"Open In Colab\"/></a>"
      ]
    },
    {
      "cell_type": "code",
      "source": [
        "from google.colab import drive\n",
        "drive.mount('/content/drive')"
      ],
      "metadata": {
        "colab": {
          "base_uri": "https://localhost:8080/"
        },
        "id": "HPn-YlaO_NIB",
        "outputId": "7b768bc1-6381-404b-fe77-b10b5c2f3cd0"
      },
      "execution_count": 25,
      "outputs": [
        {
          "output_type": "stream",
          "name": "stdout",
          "text": [
            "Drive already mounted at /content/drive; to attempt to forcibly remount, call drive.mount(\"/content/drive\", force_remount=True).\n"
          ]
        }
      ]
    },
    {
      "cell_type": "code",
      "source": [
        "import argparse\n",
        "import sys\n",
        "import glob\n",
        "import numpy as np\n",
        "import io, os\n",
        "from PIL import Image\n",
        "from PIL import ImageDraw\n",
        "from PIL import ImageFont\n",
        "import collections"
      ],
      "metadata": {
        "id": "46lAPLwa_eFK"
      },
      "execution_count": 12,
      "outputs": []
    },
    {
      "cell_type": "code",
      "source": [
        "def draw_single_char(ch, font, canvas_size):\n",
        "\n",
        "    # image.new(mode,size,color) / L: 흑백모드\n",
        "    image = Image.new('L', (canvas_size, canvas_size), color=255)\n",
        "    drawing = ImageDraw.Draw(image)\n",
        "    w, h = drawing.textsize(text=ch, font=font)\n",
        "    drawing.text(\n",
        "        ((canvas_size-w)/2, (canvas_size-h)/2),\n",
        "        text=ch,\n",
        "        fill=(0),\n",
        "        font=font\n",
        "    )\n",
        "    flag = np.sum(np.array(image))\n",
        "    \n",
        "    # 해당 font에 글자가 없으면 return None\n",
        "    if flag == 255 * 128 * 128:\n",
        "        return None\n",
        "    \n",
        "    return image"
      ],
      "metadata": {
        "id": "uPW7NNbOnb6E"
      },
      "execution_count": 20,
      "outputs": []
    },
    {
      "cell_type": "code",
      "source": [
        "def draw_example(ch, src_font, dst_font, canvas_size):\n",
        "    dst_img = draw_single_char(ch, dst_font, canvas_size)\n",
        "    \n",
        "    # 해당 font에 글자가 없으면 return None\n",
        "    if not dst_img:\n",
        "        return None\n",
        "    \n",
        "    src_img = draw_single_char(ch, src_font, canvas_size)\n",
        "    example_img = Image.new(\"RGB\", (canvas_size * 2, canvas_size), (255, 255, 255)).convert('L')\n",
        "    example_img.paste(dst_img, (0, 0))\n",
        "    example_img.paste(src_img, (canvas_size, 0))   \n",
        "    return example_img"
      ],
      "metadata": {
        "id": "AxCcgte1JKOP"
      },
      "execution_count": 40,
      "outputs": []
    },
    {
      "cell_type": "code",
      "source": [
        "%cd /content/drive/MyDrive/Colab/GAN_handwriting\n"
      ],
      "metadata": {
        "id": "zfzxSk5PoqLe",
        "colab": {
          "base_uri": "https://localhost:8080/"
        },
        "outputId": "dcd650fa-bea3-44fb-c0d0-830793323bb5"
      },
      "execution_count": 5,
      "outputs": [
        {
          "output_type": "stream",
          "name": "stdout",
          "text": [
            "/content/drive/MyDrive/Colab/GAN_handwriting\n"
          ]
        }
      ]
    },
    {
      "cell_type": "code",
      "source": [
        "src_font = ImageFont.truetype('/content/drive/MyDrive/Colab/GAN_handwriting/fonts/source/source_font.ttf', 15)\n",
        "draw_single_char('가',src_font,128)\n",
        "\n"
      ],
      "metadata": {
        "colab": {
          "base_uri": "https://localhost:8080/",
          "height": 145
        },
        "id": "MmWafYb5G33V",
        "outputId": "9c769ab8-734a-4756-b73c-adcdc4c2e1da"
      },
      "execution_count": 43,
      "outputs": [
        {
          "output_type": "execute_result",
          "data": {
            "text/plain": [
              "<PIL.Image.Image image mode=L size=128x128 at 0x7FBACBA28990>"
            ],
            "image/png": "[encoded data removed]"
          },
          "metadata": {},
          "execution_count": 43
        }
      ]
    },
    {
      "cell_type": "code",
      "source": [
        "tgt_font = ImageFont.truetype('/content/drive/MyDrive/Colab/GAN_handwriting/fonts/target/02.ttf', 15)\n",
        "draw_example('가',src_font,tgt_font,128)"
      ],
      "metadata": {
        "colab": {
          "base_uri": "https://localhost:8080/",
          "height": 145
        },
        "id": "51FPJGUfJPCI",
        "outputId": "db9e7184-688c-46b1-8730-b037bd0cce20"
      },
      "execution_count": 44,
      "outputs": [
        {
          "output_type": "execute_result",
          "data": {
            "text/plain": [
              "<PIL.Image.Image image mode=L size=256x128 at 0x7FBACB9AC890>"
            ],
            "image/png": "[encoded data removed]"
          },
          "metadata": {},
          "execution_count": 44
        }
      ]
    },
    {
      "cell_type": "code",
      "source": [
        "\n"
      ],
      "metadata": {
        "colab": {
          "base_uri": "https://localhost:8080/"
        },
        "id": "DaWbEjQT_jBj",
        "outputId": "9f8571a4-3bca-4c17-b576-0902a6196ca4"
      },
      "execution_count": 54,
      "outputs": [
        {
          "output_type": "stream",
          "name": "stdout",
          "text": [
            "origin\thttps://github.com/kalwraith/GAN_handwriting.git (fetch)\n",
            "origin\thttps://github.com/kalwraith/GAN_handwriting.git (push)\n"
          ]
        }
      ]
    },
    {
      "cell_type": "code",
      "source": [
        ""
      ],
      "metadata": {
        "colab": {
          "base_uri": "https://localhost:8080/"
        },
        "id": "ywtrd6oPH3Gt",
        "outputId": "ff3eea93-776e-4f8d-e428-ba4f49683f37"
      },
      "execution_count": 38,
      "outputs": [
        {
          "output_type": "stream",
          "name": "stdout",
          "text": [
            "/content/drive/MyDrive/Colab/GAN_handwriting\n",
            "fatal: could not read Username for 'https://github.com': No such device or address\n"
          ]
        }
      ]
    },
    {
      "cell_type": "code",
      "source": [
        ""
      ],
      "metadata": {
        "id": "wpSV7fZ_Iszc"
      },
      "execution_count": 51,
      "outputs": []
    }
  ]
}