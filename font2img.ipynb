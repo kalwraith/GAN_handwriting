{
  "nbformat": 4,
  "nbformat_minor": 0,
  "metadata": {
    "colab": {
      "name": "font2img.ipynb",
      "provenance": [],
      "authorship_tag": "ABX9TyNiCY3mALcBacWlEly20Obx",
      "include_colab_link": true
    },
    "kernelspec": {
      "name": "python3",
      "display_name": "Python 3"
    },
    "language_info": {
      "name": "python"
    }
  },
  "cells": [
    {
      "cell_type": "markdown",
      "metadata": {
        "id": "view-in-github",
        "colab_type": "text"
      },
      "source": [
        "<a href=\"https://colab.research.google.com/github/kalwraith/GAN_handwriting/blob/main/font2img.ipynb\" target=\"_parent\"><img src=\"https://colab.research.google.com/assets/colab-badge.svg\" alt=\"Open In Colab\"/></a>"
      ]
    },
    {
      "cell_type": "code",
      "execution_count": 9,
      "metadata": {
        "colab": {
          "base_uri": "https://localhost:8080/"
        },
        "id": "rve7z10mQeSG",
        "outputId": "23544ed1-eb4b-4ca9-cb0e-e9f2412c72c2"
      },
      "outputs": [
        {
          "output_type": "stream",
          "name": "stdout",
          "text": [
            "Drive already mounted at /content/drive; to attempt to forcibly remount, call drive.mount(\"/content/drive\", force_remount=True).\n"
          ]
        }
      ],
      "source": [
        "from google.colab import drive\n",
        "drive.mount('/content/drive')\n",
        "\n"
      ]
    },
    {
      "cell_type": "code",
      "source": [
        "import argparse\n",
        "import sys\n",
        "import glob\n",
        "import numpy as np\n",
        "import io, os\n",
        "from PIL import Image\n",
        "from PIL import ImageDraw\n",
        "from PIL import ImageFont\n",
        "import collections\n"
      ],
      "metadata": {
        "id": "MmN4ZXjsRON4"
      },
      "execution_count": 10,
      "outputs": []
    },
    {
      "cell_type": "code",
      "source": [
        "def draw_single_char(ch, font, canvas_size):\n",
        "\n",
        "    # image.new(mode,size,color) / L: 흑백모드\n",
        "    image = Image.new('L', (canvas_size, canvas_size), color=255)\n",
        "    drawing = ImageDraw.Draw(image)\n",
        "    w, h = drawing.textsize(ch, font=font)\n",
        "    drawing.text(\n",
        "        ((canvas_size-w)/2, (canvas_size-h)/2),\n",
        "        ch,\n",
        "        fill=(0),\n",
        "        font=font\n",
        "    )\n",
        "    flag = np.sum(np.array(image))\n",
        "    \n",
        "    # 해당 font에 글자가 없으면 return None\n",
        "    if flag == 255 * 128 * 128:\n",
        "        return None\n",
        "    \n",
        "    return image"
      ],
      "metadata": {
        "id": "uPW7NNbOnb6E"
      },
      "execution_count": 11,
      "outputs": []
    },
    {
      "cell_type": "code",
      "source": [
        "draw_single_char('가',)"
      ],
      "metadata": {
        "id": "zfzxSk5PoqLe"
      },
      "execution_count": null,
      "outputs": []
    }
  ]
}