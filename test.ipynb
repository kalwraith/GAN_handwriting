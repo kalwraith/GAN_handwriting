{
  "nbformat": 4,
  "nbformat_minor": 0,
  "metadata": {
    "colab": {
      "name": "Untitled0.ipynb",
      "provenance": [],
      "authorship_tag": "ABX9TyM6F9BhnZ3gFGSGUxnIVIey",
      "include_colab_link": true
    },
    "kernelspec": {
      "name": "python3",
      "display_name": "Python 3"
    },
    "language_info": {
      "name": "python"
    }
  },
  "cells": [
    {
      "cell_type": "markdown",
      "metadata": {
        "id": "view-in-github",
        "colab_type": "text"
      },
      "source": [
        "<a href=\"https://colab.research.google.com/github/kalwraith/GAN_handwriting/blob/main/test.ipynb\" target=\"_parent\"><img src=\"https://colab.research.google.com/assets/colab-badge.svg\" alt=\"Open In Colab\"/></a>"
      ]
    },
    {
      "cell_type": "code",
      "execution_count": 1,
      "metadata": {
        "colab": {
          "base_uri": "https://localhost:8080/"
        },
        "id": "rve7z10mQeSG",
        "outputId": "1d2fd042-6d56-48bf-d185-12260dd6d8e1"
      },
      "outputs": [
        {
          "output_type": "stream",
          "name": "stdout",
          "text": [
            "Mounted at /content/drive\n"
          ]
        }
      ],
      "source": [
        "from google.colab import drive\n",
        "drive.mount('/content/drive')\n",
        "\n"
      ]
    },
    {
      "cell_type": "code",
      "source": [
        "!cd /content/drive/MyDrive/\n",
        "!ls -al"
      ],
      "metadata": {
        "colab": {
          "base_uri": "https://localhost:8080/"
        },
        "id": "MmN4ZXjsRON4",
        "outputId": "cebd4044-fa8f-43bd-9b7c-102ef7eac89a"
      },
      "execution_count": 8,
      "outputs": [
        {
          "output_type": "stream",
          "name": "stdout",
          "text": [
            "total 20\n",
            "drwxr-xr-x 1 root root 4096 Mar 13 07:51 .\n",
            "drwxr-xr-x 1 root root 4096 Mar 13 07:51 ..\n",
            "drwxr-xr-x 1 root root 4096 Mar  9 14:47 .config\n",
            "drwx------ 6 root root 4096 Mar 13 07:51 drive\n",
            "drwxr-xr-x 1 root root 4096 Mar  9 14:48 sample_data\n"
          ]
        }
      ]
    }
  ]
}